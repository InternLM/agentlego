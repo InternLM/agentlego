{
 "cells": [
  {
   "cell_type": "markdown",
   "metadata": {},
   "source": [
    "# Use MMLMTools with langchain"
   ]
  },
  {
   "cell_type": "markdown",
   "metadata": {},
   "source": [
    "import needed packages"
   ]
  },
  {
   "cell_type": "code",
   "execution_count": null,
   "metadata": {},
   "outputs": [],
   "source": [
    "from langchain import OpenAI\n",
    "from langchain.agents import initialize_agent\n",
    "from langchain.agents import Tool\n",
    "from langchain.chains.conversation.memory import ConversationBufferMemory\n",
    "from mmlmtools.apis.agents.visual_chatgpt import load_tools_for_visual_chatgpt"
   ]
  },
  {
   "cell_type": "code",
   "execution_count": null,
   "metadata": {},
   "outputs": [],
   "source": [
    "# load mmlmtools\n",
    "globals().update(load_tools_for_visual_chatgpt())"
   ]
  },
  {
   "cell_type": "markdown",
   "metadata": {},
   "source": [
    "prepare the tools"
   ]
  },
  {
   "cell_type": "code",
   "execution_count": null,
   "metadata": {},
   "outputs": [],
   "source": [
    "# assign the tool you want to use and its device\n",
    "load_dict={'ImageCaptionTool': 'cpu'}\n",
    "\n",
    "print(f'Initializing tools,load_dict={load_dict}')\n",
    "models = {}\n",
    "for class_name, device in load_dict.items():\n",
    "    models[class_name] = globals()[class_name](device=device)\n",
    "\n",
    "print(f'All the Available Functions: {models}')\n",
    "\n",
    "tools = []\n",
    "for instance in models.values():\n",
    "    for e in dir(instance):\n",
    "        if e.startswith('inference'):\n",
    "            func = getattr(instance, e)\n",
    "            tools.append(\n",
    "                Tool(\n",
    "                    name=func.name,\n",
    "                    description=func.description,\n",
    "                    func=func))\n",
    "llm = OpenAI(temperature=0)\n",
    "memory = ConversationBufferMemory(\n",
    "    memory_key='chat_history', output_key='output')\n",
    "\n",
    "agent = initialize_agent(\n",
    "    tools=tools,\n",
    "    llm=llm,    \n",
    "    agent='conversational-react-description',\n",
    "    verbose=True,\n",
    "    memory=memory,\n",
    ")"
   ]
  },
  {
   "cell_type": "markdown",
   "metadata": {},
   "source": [
    "run the tool"
   ]
  },
  {
   "cell_type": "code",
   "execution_count": null,
   "metadata": {},
   "outputs": [],
   "source": [
    "# give your input here\n",
    "input_path = ''\n",
    "agent.run(input=input_path)"
   ]
  }
 ],
 "metadata": {
  "kernelspec": {
   "display_name": "mmtools",
   "language": "python",
   "name": "python3"
  },
  "language_info": {
   "codemirror_mode": {
    "name": "ipython",
    "version": 3
   },
   "file_extension": ".py",
   "mimetype": "text/x-python",
   "name": "python",
   "nbconvert_exporter": "python",
   "pygments_lexer": "ipython3",
   "version": "3.8.17"
  },
  "orig_nbformat": 4
 },
 "nbformat": 4,
 "nbformat_minor": 2
}
