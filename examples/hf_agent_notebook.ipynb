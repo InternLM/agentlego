{
 "cells": [
  {
   "cell_type": "code",
   "execution_count": null,
   "metadata": {
    "scrolled": true
   },
   "outputs": [],
   "source": [
    "from huggingface_hub import login\n",
    "login()"
   ]
  },
  {
   "cell_type": "code",
   "execution_count": null,
   "metadata": {},
   "outputs": [],
   "source": [
    "from mmlmtools.apis.agents.transformers_agent import load_tools_for_hfagent\n",
    "tools = load_tools_for_hfagent(['ImageCaption', 'TextToSpeech'], device='cuda')"
   ]
  },
  {
   "cell_type": "code",
   "execution_count": null,
   "metadata": {},
   "outputs": [],
   "source": [
    "from transformers import HfAgent\n",
    "agent = HfAgent(\"https://api-inference.huggingface.co/models/bigcode/starcoder\", additional_tools=tools)"
   ]
  },
  {
   "cell_type": "code",
   "execution_count": null,
   "metadata": {},
   "outputs": [],
   "source": [
    "# Remove the huggingface tools for the demo.\n",
    "for k in list(agent.toolbox.keys()):\n",
    "    if agent.toolbox[k] not in tools:\n",
    "        agent.toolbox.pop(k)\n",
    "print(agent.toolbox.keys())"
   ]
  },
  {
   "cell_type": "code",
   "execution_count": null,
   "metadata": {},
   "outputs": [],
   "source": [
    "agent.chat('Please tell me the description of `/mnt/petrelfs/mazerun/mmlab/pretrain/demo/cat-dog.png`')"
   ]
  },
  {
   "cell_type": "code",
   "execution_count": null,
   "metadata": {},
   "outputs": [],
   "source": [
    "agent.chat('Please speak the above description into audio')"
   ]
  }
 ],
 "metadata": {
  "kernelspec": {
   "display_name": "Python 3 (ipykernel)",
   "language": "python",
   "name": "python3"
  },
  "language_info": {
   "codemirror_mode": {
    "name": "ipython",
    "version": 3
   },
   "file_extension": ".py",
   "mimetype": "text/x-python",
   "name": "python",
   "nbconvert_exporter": "python",
   "pygments_lexer": "ipython3",
   "version": "3.10.12"
  },
  "vscode": {
   "interpreter": {
    "hash": "bda9b52cc8d22ac423ba9b9f5be79e8e2fd504b1f615702a53c6fbd8a8b30b94"
   }
  }
 },
 "nbformat": 4,
 "nbformat_minor": 4
}
